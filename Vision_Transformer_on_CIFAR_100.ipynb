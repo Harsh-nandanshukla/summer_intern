{
  "cells": [
    {
      "cell_type": "markdown",
      "metadata": {
        "id": "MUdo-dAngxHg"
      },
      "source": [
        "# Import required libraries"
      ]
    },
    {
      "cell_type": "markdown",
      "metadata": {
        "id": "YZMc8gRtKn1_"
      },
      "source": []
    },
    {
      "cell_type": "code",
      "execution_count": 33,
      "metadata": {
        "id": "A04SOnMyh2VP"
      },
      "outputs": [],
      "source": [
        "import torch\n",
        "import torch.nn as nn\n",
        "import torch.nn.functional as F\n",
        "import torch.optim as optim\n",
        "import torchvision\n",
        "from torch.utils.data import DataLoader\n",
        "from torchvision import datasets, transforms\n",
        "import numpy as np\n",
        "import random\n",
        "import matplotlib.pyplot as plt"
      ]
    },
    {
      "cell_type": "code",
      "execution_count": 34,
      "metadata": {
        "id": "WTuxBtXuiXn7"
      },
      "outputs": [
        {
          "data": {
            "text/plain": [
              "'2.1.0+cu121'"
            ]
          },
          "execution_count": 34,
          "metadata": {},
          "output_type": "execute_result"
        }
      ],
      "source": [
        "torch.__version__"
      ]
    },
    {
      "cell_type": "code",
      "execution_count": 35,
      "metadata": {
        "id": "aBHKspSDiaPr"
      },
      "outputs": [
        {
          "data": {
            "text/plain": [
              "'0.16.0+cu121'"
            ]
          },
          "execution_count": 35,
          "metadata": {},
          "output_type": "execute_result"
        }
      ],
      "source": [
        "torchvision.__version__"
      ]
    },
    {
      "cell_type": "markdown",
      "metadata": {
        "id": "ow7RZTEEida8"
      },
      "source": [
        "## 2. Setup Device-Agnostic Code"
      ]
    },
    {
      "cell_type": "code",
      "execution_count": 36,
      "metadata": {
        "id": "SF8aTEoOivX7"
      },
      "outputs": [
        {
          "name": "stdout",
          "output_type": "stream",
          "text": [
            "Tue Jun 10 15:07:51 2025       \n",
            "+---------------------------------------------------------------------------------------+\n",
            "| NVIDIA-SMI 535.183.01             Driver Version: 535.183.01   CUDA Version: 12.2     |\n",
            "|-----------------------------------------+----------------------+----------------------+\n",
            "| GPU  Name                 Persistence-M | Bus-Id        Disp.A | Volatile Uncorr. ECC |\n",
            "| Fan  Temp   Perf          Pwr:Usage/Cap |         Memory-Usage | GPU-Util  Compute M. |\n",
            "|                                         |                      |               MIG M. |\n",
            "|=========================================+======================+======================|\n",
            "|   0  NVIDIA GeForce RTX 3090        Off | 00000000:65:00.0 Off |                  N/A |\n",
            "|  0%   51C    P8              17W / 350W |     19MiB / 24576MiB |      0%      Default |\n",
            "|                                         |                      |                  N/A |\n",
            "+-----------------------------------------+----------------------+----------------------+\n",
            "|   1  NVIDIA GeForce RTX 3090        Off | 00000000:B3:00.0  On |                  N/A |\n",
            "|  0%   58C    P8              43W / 350W |   4075MiB / 24576MiB |     28%      Default |\n",
            "|                                         |                      |                  N/A |\n",
            "+-----------------------------------------+----------------------+----------------------+\n",
            "                                                                                         \n",
            "+---------------------------------------------------------------------------------------+\n",
            "| Processes:                                                                            |\n",
            "|  GPU   GI   CI        PID   Type   Process name                            GPU Memory |\n",
            "|        ID   ID                                                             Usage      |\n",
            "|=======================================================================================|\n",
            "|    0   N/A  N/A      1428      G   /usr/lib/xorg/Xorg                            4MiB |\n",
            "|    0   N/A  N/A      4905      G   /usr/lib/xorg/Xorg                            4MiB |\n",
            "|    1   N/A  N/A      1428      G   /usr/lib/xorg/Xorg                           35MiB |\n",
            "|    1   N/A  N/A      4905      G   /usr/lib/xorg/Xorg                          141MiB |\n",
            "|    1   N/A  N/A      5031      G   /usr/bin/gnome-shell                         42MiB |\n",
            "|    1   N/A  N/A     86940      C   python                                     3434MiB |\n",
            "|    1   N/A  N/A    125084      G   ...erProcess --variations-seed-version      187MiB |\n",
            "|    1   N/A  N/A    125836      G   /usr/lib/firefox/firefox                    195MiB |\n",
            "+---------------------------------------------------------------------------------------+\n"
          ]
        }
      ],
      "source": [
        "!nvidia-smi"
      ]
    },
    {
      "cell_type": "code",
      "execution_count": 37,
      "metadata": {
        "id": "Qkpz-xDti3WH"
      },
      "outputs": [
        {
          "data": {
            "text/plain": [
              "True"
            ]
          },
          "execution_count": 37,
          "metadata": {},
          "output_type": "execute_result"
        }
      ],
      "source": [
        "torch.cuda.is_available()"
      ]
    },
    {
      "cell_type": "code",
      "execution_count": 38,
      "metadata": {
        "id": "Z2K1YP8Birlp"
      },
      "outputs": [
        {
          "data": {
            "text/plain": [
              "'cuda'"
            ]
          },
          "execution_count": 38,
          "metadata": {},
          "output_type": "execute_result"
        }
      ],
      "source": [
        "device = \"cuda\" if torch.cuda.is_available() else \"cpu\"\n",
        "device"
      ]
    },
    {
      "cell_type": "code",
      "execution_count": 39,
      "metadata": {
        "id": "NuJkytgXi9W-"
      },
      "outputs": [
        {
          "name": "stdout",
          "output_type": "stream",
          "text": [
            "Using Device: cuda\n"
          ]
        }
      ],
      "source": [
        "print(f\"Using Device: {device}\")"
      ]
    },
    {
      "cell_type": "markdown",
      "metadata": {
        "id": "BLc4LurBjAdi"
      },
      "source": [
        "## 3. Set the seed"
      ]
    },
    {
      "cell_type": "code",
      "execution_count": 40,
      "metadata": {
        "id": "XQONzskujETy"
      },
      "outputs": [],
      "source": [
        "torch.manual_seed(42)\n",
        "torch.cuda.manual_seed(42)\n",
        "random.seed(42)"
      ]
    },
    {
      "cell_type": "markdown",
      "metadata": {
        "id": "e6UbfaCNjLJr"
      },
      "source": [
        "## 4. Setting the hyperprameters"
      ]
    },
    {
      "cell_type": "code",
      "execution_count": 41,
      "metadata": {
        "id": "CteELobGjdry"
      },
      "outputs": [
        {
          "data": {
            "text/plain": [
              "0.0003"
            ]
          },
          "execution_count": 41,
          "metadata": {},
          "output_type": "execute_result"
        }
      ],
      "source": [
        "3e-4"
      ]
    },
    {
      "cell_type": "code",
      "execution_count": 42,
      "metadata": {
        "id": "GEzLdAQDjPL9"
      },
      "outputs": [],
      "source": [
        "BATCH_SIZE = 128\n",
        "EPOCHS = 100 # Try increasing epochs \n",
        "LEARNING_RATE = 3e-4\n",
        "PATCH_SIZE = 4\n",
        "NUM_CLASSES = 100\n",
        "IMAGE_SIZE = 32 # Transform the image and make the size go to 224\n",
        "CHANNELS = 3\n",
        "EMBED_DIM = 192\n",
        "NUM_HEADS = 4# INcrease the number heads\n",
        "DEPTH = 6\n",
        "MLP_DIM = 384\n",
        "DROP_RATE = 0.2"
      ]
    },
    {
      "cell_type": "markdown",
      "metadata": {
        "id": "PdC_ItGfj4zk"
      },
      "source": [
        "## 5. Define Image Transformations"
      ]
    },
    {
      "cell_type": "code",
      "execution_count": 43,
      "metadata": {},
      "outputs": [],
      "source": [
        "transform_train = transforms.Compose([\n",
        "    transforms.RandomCrop(32, padding=4),\n",
        "    transforms.RandomHorizontalFlip(),\n",
        "    transforms.ColorJitter(0.4, 0.4, 0.4, 0.1),\n",
        "    transforms.ToTensor(),\n",
        "    transforms.Normalize(\n",
        "        (0.5071, 0.4867, 0.4408), \n",
        "        (0.2675, 0.2565, 0.2761)\n",
        "    )\n",
        "])"
      ]
    },
    {
      "cell_type": "code",
      "execution_count": 44,
      "metadata": {
        "id": "OYdDnLhnj92T"
      },
      "outputs": [],
      "source": [
        "\n",
        "# transform_train = transforms.Compose([\n",
        "#     transforms.RandomCrop(32, padding=4),\n",
        "#     transforms.RandomHorizontalFlip(),\n",
        "#     transforms.ColorJitter(brightness=0.2, contrast=0.2, saturation=0.2, hue=0.2),\n",
        "#     transforms.ToTensor(),\n",
        "#     transforms.Normalize((0.5), (0.5))\n",
        "# ])"
      ]
    },
    {
      "cell_type": "markdown",
      "metadata": {
        "id": "UHsqCOJGkZdJ"
      },
      "source": [
        "## 6. Getting a dataset"
      ]
    },
    {
      "cell_type": "code",
      "execution_count": 45,
      "metadata": {},
      "outputs": [
        {
          "name": "stdout",
          "output_type": "stream",
          "text": [
            "Files already downloaded and verified\n"
          ]
        }
      ],
      "source": [
        "from torchvision import datasets\n",
        "\n",
        "train_dataset = datasets.CIFAR100(root='data', train=True, transform=transform_train, download=True)\n"
      ]
    },
    {
      "cell_type": "code",
      "execution_count": 46,
      "metadata": {},
      "outputs": [],
      "source": [
        "train_loader = DataLoader(dataset=train_dataset,\n",
        "                          batch_size=BATCH_SIZE,\n",
        "                          shuffle=True)\n"
      ]
    },
    {
      "cell_type": "code",
      "execution_count": 47,
      "metadata": {},
      "outputs": [
        {
          "name": "stdout",
          "output_type": "stream",
          "text": [
            "torch.Size([128, 3, 32, 32])\n"
          ]
        }
      ],
      "source": [
        "for x, y in train_loader:\n",
        "    print(x.shape)  # Should be: torch.Size([BATCH_SIZE, 3, 224, 224])\n",
        "    break\n"
      ]
    },
    {
      "cell_type": "code",
      "execution_count": 48,
      "metadata": {},
      "outputs": [],
      "source": [
        "\n",
        "transform_test = transforms.Compose([\n",
        "    transforms.ToTensor(),\n",
        "    transforms.Normalize(\n",
        "        (0.5071, 0.4867, 0.4408), \n",
        "        (0.2675, 0.2565, 0.2761)\n",
        "    )\n",
        "])\n"
      ]
    },
    {
      "cell_type": "code",
      "execution_count": 49,
      "metadata": {},
      "outputs": [],
      "source": [
        "# transform_test = transforms.Compose([\n",
        "#     transforms.Resize(32),  # Match model's expected input size\n",
        "#     transforms.ToTensor(),\n",
        "#     transforms.Normalize((0.5, 0.5, 0.5), (0.5, 0.5, 0.5))\n",
        "# ])\n"
      ]
    },
    {
      "cell_type": "code",
      "execution_count": 50,
      "metadata": {},
      "outputs": [
        {
          "name": "stdout",
          "output_type": "stream",
          "text": [
            "Files already downloaded and verified\n"
          ]
        }
      ],
      "source": [
        "test_dataset = datasets.CIFAR100(root=\"data\",\n",
        "                                 train=False,\n",
        "                                 download=True,\n",
        "                                 transform=transform_test)\n"
      ]
    },
    {
      "cell_type": "code",
      "execution_count": 51,
      "metadata": {},
      "outputs": [],
      "source": [
        "test_loader = DataLoader(dataset=test_dataset,\n",
        "                         batch_size=BATCH_SIZE,\n",
        "                         shuffle=False)\n"
      ]
    },
    {
      "cell_type": "code",
      "execution_count": 52,
      "metadata": {
        "id": "G7ctndZflCNa"
      },
      "outputs": [
        {
          "data": {
            "text/plain": [
              "Dataset CIFAR100\n",
              "    Number of datapoints: 50000\n",
              "    Root location: data\n",
              "    Split: Train\n",
              "    StandardTransform\n",
              "Transform: Compose(\n",
              "               RandomCrop(size=(32, 32), padding=4)\n",
              "               RandomHorizontalFlip(p=0.5)\n",
              "               ColorJitter(brightness=(0.6, 1.4), contrast=(0.6, 1.4), saturation=(0.6, 1.4), hue=(-0.1, 0.1))\n",
              "               ToTensor()\n",
              "               Normalize(mean=(0.5071, 0.4867, 0.4408), std=(0.2675, 0.2565, 0.2761))\n",
              "           )"
            ]
          },
          "execution_count": 52,
          "metadata": {},
          "output_type": "execute_result"
        }
      ],
      "source": [
        "train_dataset"
      ]
    },
    {
      "cell_type": "code",
      "execution_count": 53,
      "metadata": {
        "id": "UGZgEMONlD-H"
      },
      "outputs": [
        {
          "data": {
            "text/plain": [
              "Dataset CIFAR100\n",
              "    Number of datapoints: 10000\n",
              "    Root location: data\n",
              "    Split: Test\n",
              "    StandardTransform\n",
              "Transform: Compose(\n",
              "               ToTensor()\n",
              "               Normalize(mean=(0.5071, 0.4867, 0.4408), std=(0.2675, 0.2565, 0.2761))\n",
              "           )"
            ]
          },
          "execution_count": 53,
          "metadata": {},
          "output_type": "execute_result"
        }
      ],
      "source": [
        "test_dataset"
      ]
    },
    {
      "cell_type": "code",
      "execution_count": 54,
      "metadata": {
        "id": "Xd1-TAF2lMdl"
      },
      "outputs": [
        {
          "data": {
            "text/plain": [
              "50000"
            ]
          },
          "execution_count": 54,
          "metadata": {},
          "output_type": "execute_result"
        }
      ],
      "source": [
        "len(train_dataset)"
      ]
    },
    {
      "cell_type": "code",
      "execution_count": 55,
      "metadata": {
        "id": "Ft8U0i5alQDk"
      },
      "outputs": [
        {
          "data": {
            "text/plain": [
              "10000"
            ]
          },
          "execution_count": 55,
          "metadata": {},
          "output_type": "execute_result"
        }
      ],
      "source": [
        "len(test_dataset)"
      ]
    },
    {
      "cell_type": "markdown",
      "metadata": {
        "id": "NwHqD3_AlRKh"
      },
      "source": [
        "## 7. Converting our datasets into dataloaders\n",
        "\n",
        "Right now, our data is in the form of PyTorch Datasets.\n",
        "\n",
        "DataLoader turns our data into batches or (mini-batches)\n",
        "\n",
        "Why would we do this?\n",
        "\n",
        "1. It is more computationally efficient, as in, your computing hardware may not be able to look (store in memroy) at 50000 images in one hit. So we break it into 128 images at a time. (batch size of 128).\n",
        "2. It gives our neural network more chances to update its gradients per epoch"
      ]
    },
    {
      "cell_type": "code",
      "execution_count": 56,
      "metadata": {
        "id": "Q8mb4zHimKYl"
      },
      "outputs": [
        {
          "data": {
            "text/plain": [
              "128"
            ]
          },
          "execution_count": 56,
          "metadata": {},
          "output_type": "execute_result"
        }
      ],
      "source": [
        "BATCH_SIZE"
      ]
    },
    {
      "cell_type": "code",
      "execution_count": 57,
      "metadata": {
        "id": "e6YmFJWCmUz3"
      },
      "outputs": [
        {
          "name": "stdout",
          "output_type": "stream",
          "text": [
            "DataLoader: (<torch.utils.data.dataloader.DataLoader object at 0x7f9a8725a6b0>, <torch.utils.data.dataloader.DataLoader object at 0x7f99d8604a90>)\n",
            "Length of train_loader: 391 batches of 128...\n",
            "Length of test_loader: 79 batches of 128...\n"
          ]
        }
      ],
      "source": [
        "# Let's check out what we've created\n",
        "print(f\"DataLoader: {train_loader, test_loader}\")\n",
        "print(f\"Length of train_loader: {len(train_loader)} batches of {BATCH_SIZE}...\")\n",
        "print(f\"Length of test_loader: {len(test_loader)} batches of {BATCH_SIZE}...\")"
      ]
    },
    {
      "cell_type": "code",
      "execution_count": 58,
      "metadata": {},
      "outputs": [
        {
          "name": "stdout",
          "output_type": "stream",
          "text": [
            "torch.Size([128, 3, 32, 32])\n"
          ]
        }
      ],
      "source": [
        "for x, y in train_loader:\n",
        "    print(x.shape)  # Expect: (batch_size, 3, 224, 224)\n",
        "    break\n"
      ]
    },
    {
      "cell_type": "code",
      "execution_count": 59,
      "metadata": {
        "id": "TcpDXQltmjpJ"
      },
      "outputs": [
        {
          "data": {
            "text/plain": [
              "50000.0"
            ]
          },
          "execution_count": 59,
          "metadata": {},
          "output_type": "execute_result"
        }
      ],
      "source": [
        "128 * 390.625"
      ]
    },
    {
      "cell_type": "code",
      "execution_count": 60,
      "metadata": {
        "id": "imq29xDNmrCu"
      },
      "outputs": [
        {
          "data": {
            "text/plain": [
              "390.625"
            ]
          },
          "execution_count": 60,
          "metadata": {},
          "output_type": "execute_result"
        }
      ],
      "source": [
        "50000 / 128"
      ]
    },
    {
      "cell_type": "markdown",
      "metadata": {
        "id": "NvYIfIHWm01X"
      },
      "source": [
        "## 8. Building Vision Transformer Model From Scratch"
      ]
    },
    {
      "cell_type": "code",
      "execution_count": 61,
      "metadata": {
        "id": "KKZf3iS_nL0V"
      },
      "outputs": [
        {
          "data": {
            "text/plain": [
              "4"
            ]
          },
          "execution_count": 61,
          "metadata": {},
          "output_type": "execute_result"
        }
      ],
      "source": [
        "PATCH_SIZE"
      ]
    },
    {
      "cell_type": "code",
      "execution_count": 62,
      "metadata": {},
      "outputs": [],
      "source": [
        "class PatchEmbedding(nn.Module):\n",
        "    def __init__(self,\n",
        "                 img_size=32,\n",
        "                 patch_size=4,\n",
        "                 in_channels=3,\n",
        "                 embed_dim=192):  \n",
        "        super().__init__()\n",
        "        self.patch_size = patch_size\n",
        "        self.proj = nn.Conv2d(in_channels=in_channels,\n",
        "                              out_channels=embed_dim,\n",
        "                              kernel_size=patch_size,\n",
        "                              stride=patch_size)\n",
        "        \n",
        "        num_patches = (img_size // patch_size) ** 2  # (32 / 4)^2 = 64\n",
        "        self.cls_token = nn.Parameter(torch.randn(1, 1, embed_dim))\n",
        "        self.pos_embed = nn.Parameter(torch.randn(1, 1 + num_patches, embed_dim))  # 1 + 64 = 65\n",
        "        \n",
        "        \n",
        "\n",
        "    def forward(self, x: torch.Tensor):\n",
        "        B = x.size(0)\n",
        "        x = self.proj(x)                           # Shape: (B, E, H/P, W/P)\n",
        "        x = x.flatten(2).transpose(1, 2)           # Shape: (B, N, E)\n",
        "        cls_tokens = self.cls_token.expand(B, -1, -1)\n",
        "        x = torch.cat((cls_tokens, x), dim=1)      # Shape: (B, 1+N, E)\n",
        "        x = x + self.pos_embed                     # Positional embedding aEpoch: 84/100, Train loss: 2.3105, Train acc: 52.1520, Test acc: 52.6900\n",
        "\n",
        "        return x\n"
      ]
    },
    {
      "cell_type": "code",
      "execution_count": 63,
      "metadata": {
        "id": "1_w3VPKZqOvf"
      },
      "outputs": [
        {
          "data": {
            "text/plain": [
              "<module 'torch.nn.functional' from '/home/iiit/anaconda3/envs/a1/lib/python3.10/site-packages/torch/nn/functional.py'>"
            ]
          },
          "execution_count": 63,
          "metadata": {},
          "output_type": "execute_result"
        }
      ],
      "source": [
        "F"
      ]
    },
    {
      "cell_type": "code",
      "execution_count": 64,
      "metadata": {
        "id": "XJKzSpthpAQa"
      },
      "outputs": [],
      "source": [
        "class MLP(nn.Module):\n",
        "    def __init__(self,\n",
        "                 in_features,\n",
        "                 hidden_features,\n",
        "                 drop_rate):\n",
        "        super().__init__()\n",
        "        self.fc1 = nn.Linear(in_features=in_features,\n",
        "                             out_features=hidden_features)\n",
        "        self.fc2 = nn.Linear(in_features=hidden_features,\n",
        "                             out_features=in_features)\n",
        "        self.dropout = nn.Dropout(drop_rate)\n",
        "\n",
        "    def forward(self, x):\n",
        "        x = self.dropout(F.gelu(self.fc1(x)))\n",
        "        x = self.dropout(self.fc2(x))\n",
        "        return x"
      ]
    },
    {
      "cell_type": "code",
      "execution_count": 65,
      "metadata": {
        "id": "zcRUvJoSqo4K"
      },
      "outputs": [],
      "source": [
        "class TransformerEncoderLayer(nn.Module):\n",
        "    def __init__(self, embed_dim, num_heads, mlp_dim, drop_rate):\n",
        "        super().__init__()\n",
        "        self.norm1 = nn.LayerNorm(embed_dim)\n",
        "        self.attn = nn.MultiheadAttention(embed_dim, num_heads, dropout=drop_rate, batch_first=True)\n",
        "        self.norm2 = nn.LayerNorm(embed_dim)\n",
        "        self.mlp = MLP(embed_dim, mlp_dim, drop_rate)\n",
        "\n",
        "    def forward(self, x):\n",
        "        x = x + self.attn(self.norm1(x), self.norm1(x), self.norm1(x))[0]\n",
        "        x = x + self.mlp(self.norm2(x))\n",
        "        return x"
      ]
    },
    {
      "cell_type": "code",
      "execution_count": 66,
      "metadata": {
        "id": "F0K8g_XerueW"
      },
      "outputs": [],
      "source": [
        "class VisionTransformer(nn.Module):\n",
        "    def __init__(self, img_size, patch_size, in_channels, num_classes, embed_dim, depth, num_heads, mlp_dim, drop_rate):\n",
        "        super().__init__()\n",
        "        self.patch_embed = PatchEmbedding(img_size, patch_size, in_channels, embed_dim)\n",
        "        self.encoder = nn.Sequential(*[\n",
        "            TransformerEncoderLayer(embed_dim, num_heads, mlp_dim, drop_rate)\n",
        "            for _ in range(depth)\n",
        "        ])\n",
        "        self.norm = nn.LayerNorm(embed_dim)\n",
        "        self.head = nn.Linear(embed_dim, num_classes)\n",
        "\n",
        "    def forward(self, x):\n",
        "        x = self.patch_embed(x)\n",
        "        x = self.encoder(x)\n",
        "        x = self.norm(x)\n",
        "        cls_token = x[:, 0]\n",
        "        return self.head(cls_token)"
      ]
    },
    {
      "cell_type": "code",
      "execution_count": 67,
      "metadata": {
        "id": "w69xQRmxtjb_"
      },
      "outputs": [
        {
          "data": {
            "text/plain": [
              "6"
            ]
          },
          "execution_count": 67,
          "metadata": {},
          "output_type": "execute_result"
        }
      ],
      "source": [
        "DEPTH"
      ]
    },
    {
      "cell_type": "code",
      "execution_count": 68,
      "metadata": {
        "id": "xbIFpsP0txLr"
      },
      "outputs": [
        {
          "data": {
            "text/plain": [
              "'cuda'"
            ]
          },
          "execution_count": 68,
          "metadata": {},
          "output_type": "execute_result"
        }
      ],
      "source": [
        "device"
      ]
    },
    {
      "cell_type": "code",
      "execution_count": 69,
      "metadata": {
        "id": "Lvv6XQJjtQpS"
      },
      "outputs": [],
      "source": [
        "# Instantiate model\n",
        "model = VisionTransformer(\n",
        "    IMAGE_SIZE, PATCH_SIZE, CHANNELS, NUM_CLASSES,\n",
        "    EMBED_DIM, DEPTH, NUM_HEADS, MLP_DIM, DROP_RATE\n",
        ").to(device)"
      ]
    },
    {
      "cell_type": "code",
      "execution_count": 70,
      "metadata": {
        "id": "VhjVXjpCH6ky"
      },
      "outputs": [
        {
          "data": {
            "text/plain": [
              "VisionTransformer(\n",
              "  (patch_embed): PatchEmbedding(\n",
              "    (proj): Conv2d(3, 192, kernel_size=(4, 4), stride=(4, 4))\n",
              "  )\n",
              "  (encoder): Sequential(\n",
              "    (0): TransformerEncoderLayer(\n",
              "      (norm1): LayerNorm((192,), eps=1e-05, elementwise_affine=True)\n",
              "      (attn): MultiheadAttention(\n",
              "        (out_proj): NonDynamicallyQuantizableLinear(in_features=192, out_features=192, bias=True)\n",
              "      )\n",
              "      (norm2): LayerNorm((192,), eps=1e-05, elementwise_affine=True)\n",
              "      (mlp): MLP(\n",
              "        (fc1): Linear(in_features=192, out_features=384, bias=True)\n",
              "        (fc2): Linear(in_features=384, out_features=192, bias=True)\n",
              "        (dropout): Dropout(p=0.2, inplace=False)\n",
              "      )\n",
              "    )\n",
              "    (1): TransformerEncoderLayer(\n",
              "      (norm1): LayerNorm((192,), eps=1e-05, elementwise_affine=True)\n",
              "      (attn): MultiheadAttention(\n",
              "        (out_proj): NonDynamicallyQuantizableLinear(in_features=192, out_features=192, bias=True)\n",
              "      )\n",
              "      (norm2): LayerNorm((192,), eps=1e-05, elementwise_affine=True)\n",
              "      (mlp): MLP(\n",
              "        (fc1): Linear(in_features=192, out_features=384, bias=True)\n",
              "        (fc2): Linear(in_features=384, out_features=192, bias=True)\n",
              "        (dropout): Dropout(p=0.2, inplace=False)\n",
              "      )\n",
              "    )\n",
              "    (2): TransformerEncoderLayer(\n",
              "      (norm1): LayerNorm((192,), eps=1e-05, elementwise_affine=True)\n",
              "      (attn): MultiheadAttention(\n",
              "        (out_proj): NonDynamicallyQuantizableLinear(in_features=192, out_features=192, bias=True)\n",
              "      )\n",
              "      (norm2): LayerNorm((192,), eps=1e-05, elementwise_affine=True)\n",
              "      (mlp): MLP(\n",
              "        (fc1): Linear(in_features=192, out_features=384, bias=True)\n",
              "        (fc2): Linear(in_features=384, out_features=192, bias=True)\n",
              "        (dropout): Dropout(p=0.2, inplace=False)\n",
              "      )\n",
              "    )\n",
              "    (3): TransformerEncoderLayer(\n",
              "      (norm1): LayerNorm((192,), eps=1e-05, elementwise_affine=True)\n",
              "      (attn): MultiheadAttention(\n",
              "        (out_proj): NonDynamicallyQuantizableLinear(in_features=192, out_features=192, bias=True)\n",
              "      )\n",
              "      (norm2): LayerNorm((192,), eps=1e-05, elementwise_affine=True)\n",
              "      (mlp): MLP(\n",
              "        (fc1): Linear(in_features=192, out_features=384, bias=True)\n",
              "        (fc2): Linear(in_features=384, out_features=192, bias=True)\n",
              "        (dropout): Dropout(p=0.2, inplace=False)\n",
              "      )\n",
              "    )\n",
              "    (4): TransformerEncoderLayer(\n",
              "      (norm1): LayerNorm((192,), eps=1e-05, elementwise_affine=True)\n",
              "      (attn): MultiheadAttention(\n",
              "        (out_proj): NonDynamicallyQuantizableLinear(in_features=192, out_features=192, bias=True)\n",
              "      )\n",
              "      (norm2): LayerNorm((192,), eps=1e-05, elementwise_affine=True)\n",
              "      (mlp): MLP(\n",
              "        (fc1): Linear(in_features=192, out_features=384, bias=True)\n",
              "        (fc2): Linear(in_features=384, out_features=192, bias=True)\n",
              "        (dropout): Dropout(p=0.2, inplace=False)\n",
              "      )\n",
              "    )\n",
              "    (5): TransformerEncoderLayer(\n",
              "      (norm1): LayerNorm((192,), eps=1e-05, elementwise_affine=True)\n",
              "      (attn): MultiheadAttention(\n",
              "        (out_proj): NonDynamicallyQuantizableLinear(in_features=192, out_features=192, bias=True)\n",
              "      )\n",
              "      (norm2): LayerNorm((192,), eps=1e-05, elementwise_affine=True)\n",
              "      (mlp): MLP(\n",
              "        (fc1): Linear(in_features=192, out_features=384, bias=True)\n",
              "        (fc2): Linear(in_features=384, out_features=192, bias=True)\n",
              "        (dropout): Dropout(p=0.2, inplace=False)\n",
              "      )\n",
              "    )\n",
              "  )\n",
              "  (norm): LayerNorm((192,), eps=1e-05, elementwise_affine=True)\n",
              "  (head): Linear(in_features=192, out_features=100, bias=True)\n",
              ")"
            ]
          },
          "execution_count": 70,
          "metadata": {},
          "output_type": "execute_result"
        }
      ],
      "source": [
        "model"
      ]
    },
    {
      "cell_type": "markdown",
      "metadata": {
        "id": "Oe-MuP-5If-S"
      },
      "source": [
        "## 9. Defining a Loss function and an optimizer"
      ]
    },
    {
      "cell_type": "code",
      "execution_count": 71,
      "metadata": {
        "id": "qHJjtwUJIm0D"
      },
      "outputs": [],
      "source": [
        "criterion = nn.CrossEntropyLoss(label_smoothing=0.1) # Measure how wrong our model is\n",
        "optimizer = torch.optim.Adam(params=model.parameters(), # update our model's parameters to try and reduce the loss\n",
        "                             lr=LEARNING_RATE,weight_decay=5e-4)"
      ]
    },
    {
      "cell_type": "code",
      "execution_count": 72,
      "metadata": {
        "id": "FgfZMOwuIy2T"
      },
      "outputs": [
        {
          "data": {
            "text/plain": [
              "CrossEntropyLoss()"
            ]
          },
          "execution_count": 72,
          "metadata": {},
          "output_type": "execute_result"
        }
      ],
      "source": [
        "criterion"
      ]
    },
    {
      "cell_type": "code",
      "execution_count": 73,
      "metadata": {
        "id": "TQHuBb8_I06p"
      },
      "outputs": [
        {
          "data": {
            "text/plain": [
              "Adam (\n",
              "Parameter Group 0\n",
              "    amsgrad: False\n",
              "    betas: (0.9, 0.999)\n",
              "    capturable: False\n",
              "    differentiable: False\n",
              "    eps: 1e-08\n",
              "    foreach: None\n",
              "    fused: None\n",
              "    lr: 0.0003\n",
              "    maximize: False\n",
              "    weight_decay: 0.0005\n",
              ")"
            ]
          },
          "execution_count": 73,
          "metadata": {},
          "output_type": "execute_result"
        }
      ],
      "source": [
        "optimizer"
      ]
    },
    {
      "cell_type": "markdown",
      "metadata": {
        "id": "s2vr-OiWI2Gc"
      },
      "source": [
        "## 10. Defining a Training Loop function"
      ]
    },
    {
      "cell_type": "code",
      "execution_count": 74,
      "metadata": {
        "id": "Gg2SRUoCJZmp"
      },
      "outputs": [
        {
          "data": {
            "text/plain": [
              "'cuda'"
            ]
          },
          "execution_count": 74,
          "metadata": {},
          "output_type": "execute_result"
        }
      ],
      "source": [
        "device"
      ]
    },
    {
      "cell_type": "code",
      "execution_count": 75,
      "metadata": {
        "id": "ZlWtLw7rI_YV"
      },
      "outputs": [],
      "source": [
        "def train(model, loader, optimizer, criterion):\n",
        "    # Set the mode of the model into training\n",
        "    model.train()\n",
        "\n",
        "    total_loss, correct = 0, 0\n",
        "\n",
        "    for x, y in loader:\n",
        "        # Moving (Sending) our data into the target device\n",
        "        x, y = x.to(device), y.to(device)\n",
        "        optimizer.zero_grad()\n",
        "        # 1. Forward pass (model outputs raw logits)\n",
        "        out = model(x)\n",
        "        # 2. Calcualte loss (per batch)\n",
        "        loss = criterion(out, y)\n",
        "        # 3. Perform backpropgation\n",
        "        loss.backward()\n",
        "        # 4. Perforam Gradient Descent\n",
        "        optimizer.step()\n",
        "\n",
        "        total_loss += loss.item() * x.size(0)\n",
        "        correct += (out.argmax(1) == y).sum().item()\n",
        "   \n",
        "    return total_loss / len(loader.dataset), correct / len(loader.dataset)"
      ]
    },
    {
      "cell_type": "code",
      "execution_count": 76,
      "metadata": {},
      "outputs": [],
      "source": [
        "def evaluate(model, dataloader):\n",
        "    model.eval()\n",
        "    correct, total = 0, 0\n",
        "    with torch.no_grad():\n",
        "        for x, y in dataloader:\n",
        "            x, y = x.to(device), y.to(device)\n",
        "            preds = model(x)\n",
        "            correct += (preds.argmax(1) == y).sum().item()\n",
        "            total += y.size(0)\n",
        "    return 100 * correct / total\n"
      ]
    },
    {
      "cell_type": "code",
      "execution_count": 77,
      "metadata": {
        "id": "2754URTLRZQt"
      },
      "outputs": [
        {
          "data": {
            "text/plain": [
              "100"
            ]
          },
          "execution_count": 77,
          "metadata": {},
          "output_type": "execute_result"
        }
      ],
      "source": [
        "EPOCHS"
      ]
    },
    {
      "cell_type": "code",
      "execution_count": 78,
      "metadata": {},
      "outputs": [
        {
          "name": "stdout",
          "output_type": "stream",
          "text": [
            "torch.Size([1, 65, 192])\n"
          ]
        }
      ],
      "source": [
        "print(model.patch_embed.pos_embed.shape)"
      ]
    },
    {
      "cell_type": "code",
      "execution_count": 79,
      "metadata": {},
      "outputs": [
        {
          "name": "stdout",
          "output_type": "stream",
          "text": [
            "Input batch shape: torch.Size([128, 3, 32, 32])\n",
            "Positional embedding shape: torch.Size([1, 65, 192])\n",
            "Patch embed output shape: torch.Size([128, 65, 192])\n"
          ]
        }
      ],
      "source": [
        "# Quick debug after your model definition and DataLoader setup\n",
        "x, y = next(iter(train_loader))\n",
        "print(\"Input batch shape:\", x.shape)  # Expected: [batch_size, 3, 32, 32]\n",
        "print(\"Positional embedding shape:\", model.patch_embed.pos_embed.shape)\n",
        "\n",
        "# Include a forward pass through only the patch embedding:\n",
        "out = model.patch_embed(x.to(device))\n",
        "print(\"Patch embed output shape:\", out.shape)  # Should be [batch_size, 65, 192]\n"
      ]
    },
    {
      "cell_type": "code",
      "execution_count": 80,
      "metadata": {},
      "outputs": [],
      "source": [
        "# Rebuild the model and optimizer\n",
        "model = VisionTransformer(\n",
        "    img_size=32,\n",
        "    patch_size=4,\n",
        "    in_channels=3,\n",
        "    num_classes=100,\n",
        "    embed_dim=192,\n",
        "    depth=6,\n",
        "    num_heads=4,\n",
        "    mlp_dim=384,\n",
        "    drop_rate=0.2\n",
        ").to(device)\n",
        "\n",
        "optimizer = torch.optim.Adam(model.parameters(), lr=LEARNING_RATE,weight_decay=5e-4)\n"
      ]
    },
    {
      "cell_type": "code",
      "execution_count": 81,
      "metadata": {
        "id": "ZprlkR56SJUb"
      },
      "outputs": [],
      "source": [
        "from tqdm.auto import tqdm"
      ]
    },
    {
      "cell_type": "code",
      "execution_count": 82,
      "metadata": {},
      "outputs": [
        {
          "name": "stderr",
          "output_type": "stream",
          "text": [
            "  1%|          | 1/100 [00:45<1:15:47, 45.93s/it]"
          ]
        },
        {
          "name": "stdout",
          "output_type": "stream",
          "text": [
            "Epoch: 1/100, Train loss: 4.3000, Train acc: 5.4740, Test acc: 10.9900\n"
          ]
        },
        {
          "name": "stderr",
          "output_type": "stream",
          "text": [
            "  2%|▏         | 2/100 [01:30<1:13:30, 45.01s/it]"
          ]
        },
        {
          "name": "stdout",
          "output_type": "stream",
          "text": [
            "Epoch: 2/100, Train loss: 3.9856, Train acc: 11.1600, Test acc: 16.6000\n"
          ]
        },
        {
          "name": "stderr",
          "output_type": "stream",
          "text": [
            "  3%|▎         | 3/100 [02:15<1:12:44, 44.99s/it]"
          ]
        },
        {
          "name": "stdout",
          "output_type": "stream",
          "text": [
            "Epoch: 3/100, Train loss: 3.7995, Train acc: 14.8620, Test acc: 19.6100\n"
          ]
        },
        {
          "name": "stderr",
          "output_type": "stream",
          "text": [
            "  4%|▍         | 4/100 [02:59<1:11:13, 44.52s/it]"
          ]
        },
        {
          "name": "stdout",
          "output_type": "stream",
          "text": [
            "Epoch: 4/100, Train loss: 3.6886, Train acc: 17.4320, Test acc: 21.2800\n"
          ]
        },
        {
          "name": "stderr",
          "output_type": "stream",
          "text": [
            "  5%|▌         | 5/100 [03:44<1:10:44, 44.68s/it]"
          ]
        },
        {
          "name": "stdout",
          "output_type": "stream",
          "text": [
            "Epoch: 5/100, Train loss: 3.6110, Train acc: 18.9900, Test acc: 23.4600\n"
          ]
        },
        {
          "name": "stderr",
          "output_type": "stream",
          "text": [
            "  6%|▌         | 6/100 [04:29<1:10:14, 44.84s/it]"
          ]
        },
        {
          "name": "stdout",
          "output_type": "stream",
          "text": [
            "Epoch: 6/100, Train loss: 3.5489, Train acc: 20.3980, Test acc: 24.9000\n"
          ]
        },
        {
          "name": "stderr",
          "output_type": "stream",
          "text": [
            "  7%|▋         | 7/100 [05:14<1:09:31, 44.85s/it]"
          ]
        },
        {
          "name": "stdout",
          "output_type": "stream",
          "text": [
            "Epoch: 7/100, Train loss: 3.4989, Train acc: 21.6620, Test acc: 26.5400\n"
          ]
        },
        {
          "name": "stderr",
          "output_type": "stream",
          "text": [
            "  8%|▊         | 8/100 [05:59<1:09:12, 45.14s/it]"
          ]
        },
        {
          "name": "stdout",
          "output_type": "stream",
          "text": [
            "Epoch: 8/100, Train loss: 3.4489, Train acc: 22.6480, Test acc: 26.9700\n"
          ]
        },
        {
          "name": "stderr",
          "output_type": "stream",
          "text": [
            "  9%|▉         | 9/100 [06:45<1:08:35, 45.22s/it]"
          ]
        },
        {
          "name": "stdout",
          "output_type": "stream",
          "text": [
            "Epoch: 9/100, Train loss: 3.4045, Train acc: 23.6940, Test acc: 28.5600\n"
          ]
        },
        {
          "name": "stderr",
          "output_type": "stream",
          "text": [
            " 10%|█         | 10/100 [07:30<1:07:52, 45.26s/it]"
          ]
        },
        {
          "name": "stdout",
          "output_type": "stream",
          "text": [
            "Epoch: 10/100, Train loss: 3.3648, Train acc: 24.8520, Test acc: 29.7500\n"
          ]
        },
        {
          "name": "stderr",
          "output_type": "stream",
          "text": [
            " 11%|█         | 11/100 [08:15<1:06:56, 45.12s/it]"
          ]
        },
        {
          "name": "stdout",
          "output_type": "stream",
          "text": [
            "Epoch: 11/100, Train loss: 3.3231, Train acc: 25.5340, Test acc: 30.2900\n"
          ]
        },
        {
          "name": "stderr",
          "output_type": "stream",
          "text": [
            " 12%|█▏        | 12/100 [09:00<1:06:07, 45.09s/it]"
          ]
        },
        {
          "name": "stdout",
          "output_type": "stream",
          "text": [
            "Epoch: 12/100, Train loss: 3.2870, Train acc: 26.4960, Test acc: 31.6400\n"
          ]
        },
        {
          "name": "stderr",
          "output_type": "stream",
          "text": [
            " 13%|█▎        | 13/100 [09:45<1:05:16, 45.01s/it]"
          ]
        },
        {
          "name": "stdout",
          "output_type": "stream",
          "text": [
            "Epoch: 13/100, Train loss: 3.2488, Train acc: 27.3700, Test acc: 32.3400\n"
          ]
        },
        {
          "name": "stderr",
          "output_type": "stream",
          "text": [
            " 14%|█▍        | 14/100 [10:29<1:04:02, 44.68s/it]"
          ]
        },
        {
          "name": "stdout",
          "output_type": "stream",
          "text": [
            "Epoch: 14/100, Train loss: 3.2159, Train acc: 28.2200, Test acc: 33.8800\n"
          ]
        },
        {
          "name": "stderr",
          "output_type": "stream",
          "text": [
            " 15%|█▌        | 15/100 [11:14<1:03:31, 44.84s/it]"
          ]
        },
        {
          "name": "stdout",
          "output_type": "stream",
          "text": [
            "Epoch: 15/100, Train loss: 3.1795, Train acc: 29.0400, Test acc: 33.6800\n"
          ]
        },
        {
          "name": "stderr",
          "output_type": "stream",
          "text": [
            " 16%|█▌        | 16/100 [12:00<1:03:07, 45.09s/it]"
          ]
        },
        {
          "name": "stdout",
          "output_type": "stream",
          "text": [
            "Epoch: 16/100, Train loss: 3.1524, Train acc: 29.8480, Test acc: 35.0800\n"
          ]
        },
        {
          "name": "stderr",
          "output_type": "stream",
          "text": [
            " 17%|█▋        | 17/100 [12:45<1:02:21, 45.07s/it]"
          ]
        },
        {
          "name": "stdout",
          "output_type": "stream",
          "text": [
            "Epoch: 17/100, Train loss: 3.1220, Train acc: 30.3400, Test acc: 36.5400\n"
          ]
        },
        {
          "name": "stderr",
          "output_type": "stream",
          "text": [
            " 18%|█▊        | 18/100 [13:30<1:01:37, 45.09s/it]"
          ]
        },
        {
          "name": "stdout",
          "output_type": "stream",
          "text": [
            "Epoch: 18/100, Train loss: 3.0974, Train acc: 31.1040, Test acc: 36.6200\n"
          ]
        },
        {
          "name": "stderr",
          "output_type": "stream",
          "text": [
            " 19%|█▉        | 19/100 [14:15<1:00:46, 45.02s/it]"
          ]
        },
        {
          "name": "stdout",
          "output_type": "stream",
          "text": [
            "Epoch: 19/100, Train loss: 3.0751, Train acc: 31.6360, Test acc: 36.6900\n"
          ]
        },
        {
          "name": "stderr",
          "output_type": "stream",
          "text": [
            " 20%|██        | 20/100 [14:59<59:46, 44.84s/it]  "
          ]
        },
        {
          "name": "stdout",
          "output_type": "stream",
          "text": [
            "Epoch: 20/100, Train loss: 3.0480, Train acc: 32.3540, Test acc: 37.6700\n"
          ]
        },
        {
          "name": "stderr",
          "output_type": "stream",
          "text": [
            " 21%|██        | 21/100 [15:44<58:58, 44.79s/it]"
          ]
        },
        {
          "name": "stdout",
          "output_type": "stream",
          "text": [
            "Epoch: 21/100, Train loss: 3.0250, Train acc: 32.6900, Test acc: 37.7300\n"
          ]
        },
        {
          "name": "stderr",
          "output_type": "stream",
          "text": [
            " 22%|██▏       | 22/100 [16:29<58:24, 44.94s/it]"
          ]
        },
        {
          "name": "stdout",
          "output_type": "stream",
          "text": [
            "Epoch: 22/100, Train loss: 3.0051, Train acc: 33.3720, Test acc: 38.6100\n"
          ]
        },
        {
          "name": "stderr",
          "output_type": "stream",
          "text": [
            " 23%|██▎       | 23/100 [17:14<57:33, 44.84s/it]"
          ]
        },
        {
          "name": "stdout",
          "output_type": "stream",
          "text": [
            "Epoch: 23/100, Train loss: 2.9843, Train acc: 33.8080, Test acc: 39.1600\n"
          ]
        },
        {
          "name": "stderr",
          "output_type": "stream",
          "text": [
            " 24%|██▍       | 24/100 [17:59<56:57, 44.97s/it]"
          ]
        },
        {
          "name": "stdout",
          "output_type": "stream",
          "text": [
            "Epoch: 24/100, Train loss: 2.9657, Train acc: 34.3660, Test acc: 39.1100\n"
          ]
        },
        {
          "name": "stderr",
          "output_type": "stream",
          "text": [
            " 25%|██▌       | 25/100 [18:44<56:09, 44.92s/it]"
          ]
        },
        {
          "name": "stdout",
          "output_type": "stream",
          "text": [
            "Epoch: 25/100, Train loss: 2.9409, Train acc: 34.8260, Test acc: 40.1400\n"
          ]
        },
        {
          "name": "stderr",
          "output_type": "stream",
          "text": [
            " 26%|██▌       | 26/100 [19:28<55:02, 44.63s/it]"
          ]
        },
        {
          "name": "stdout",
          "output_type": "stream",
          "text": [
            "Epoch: 26/100, Train loss: 2.9142, Train acc: 35.5420, Test acc: 40.9600\n"
          ]
        },
        {
          "name": "stderr",
          "output_type": "stream",
          "text": [
            " 27%|██▋       | 27/100 [20:13<54:26, 44.75s/it]"
          ]
        },
        {
          "name": "stdout",
          "output_type": "stream",
          "text": [
            "Epoch: 27/100, Train loss: 2.8902, Train acc: 36.3060, Test acc: 41.5500\n"
          ]
        },
        {
          "name": "stderr",
          "output_type": "stream",
          "text": [
            " 28%|██▊       | 28/100 [20:57<53:26, 44.54s/it]"
          ]
        },
        {
          "name": "stdout",
          "output_type": "stream",
          "text": [
            "Epoch: 28/100, Train loss: 2.8693, Train acc: 36.7440, Test acc: 41.5500\n"
          ]
        },
        {
          "name": "stderr",
          "output_type": "stream",
          "text": [
            " 29%|██▉       | 29/100 [21:41<52:44, 44.57s/it]"
          ]
        },
        {
          "name": "stdout",
          "output_type": "stream",
          "text": [
            "Epoch: 29/100, Train loss: 2.8532, Train acc: 37.3320, Test acc: 42.9500\n"
          ]
        },
        {
          "name": "stderr",
          "output_type": "stream",
          "text": [
            " 30%|███       | 30/100 [22:27<52:24, 44.93s/it]"
          ]
        },
        {
          "name": "stdout",
          "output_type": "stream",
          "text": [
            "Epoch: 30/100, Train loss: 2.8335, Train acc: 37.6100, Test acc: 41.8800\n"
          ]
        },
        {
          "name": "stderr",
          "output_type": "stream",
          "text": [
            " 31%|███       | 31/100 [23:12<51:49, 45.07s/it]"
          ]
        },
        {
          "name": "stdout",
          "output_type": "stream",
          "text": [
            "Epoch: 31/100, Train loss: 2.8122, Train acc: 38.2020, Test acc: 43.7600\n"
          ]
        },
        {
          "name": "stderr",
          "output_type": "stream",
          "text": [
            " 32%|███▏      | 32/100 [23:56<50:41, 44.73s/it]"
          ]
        },
        {
          "name": "stdout",
          "output_type": "stream",
          "text": [
            "Epoch: 32/100, Train loss: 2.7952, Train acc: 38.5680, Test acc: 42.8400\n"
          ]
        },
        {
          "name": "stderr",
          "output_type": "stream",
          "text": [
            " 33%|███▎      | 33/100 [24:41<49:56, 44.72s/it]"
          ]
        },
        {
          "name": "stdout",
          "output_type": "stream",
          "text": [
            "Epoch: 33/100, Train loss: 2.7809, Train acc: 39.0220, Test acc: 44.6600\n"
          ]
        },
        {
          "name": "stderr",
          "output_type": "stream",
          "text": [
            " 34%|███▍      | 34/100 [25:27<49:32, 45.04s/it]"
          ]
        },
        {
          "name": "stdout",
          "output_type": "stream",
          "text": [
            "Epoch: 34/100, Train loss: 2.7604, Train acc: 39.5760, Test acc: 44.6600\n"
          ]
        },
        {
          "name": "stderr",
          "output_type": "stream",
          "text": [
            " 35%|███▌      | 35/100 [26:12<48:58, 45.21s/it]"
          ]
        },
        {
          "name": "stdout",
          "output_type": "stream",
          "text": [
            "Epoch: 35/100, Train loss: 2.7447, Train acc: 39.8740, Test acc: 44.8600\n"
          ]
        },
        {
          "name": "stderr",
          "output_type": "stream",
          "text": [
            " 36%|███▌      | 36/100 [26:57<47:58, 44.98s/it]"
          ]
        },
        {
          "name": "stdout",
          "output_type": "stream",
          "text": [
            "Epoch: 36/100, Train loss: 2.7274, Train acc: 40.5340, Test acc: 46.1600\n"
          ]
        },
        {
          "name": "stderr",
          "output_type": "stream",
          "text": [
            " 37%|███▋      | 37/100 [27:42<47:08, 44.89s/it]"
          ]
        },
        {
          "name": "stdout",
          "output_type": "stream",
          "text": [
            "Epoch: 37/100, Train loss: 2.7069, Train acc: 40.7260, Test acc: 46.7200\n"
          ]
        },
        {
          "name": "stderr",
          "output_type": "stream",
          "text": [
            " 38%|███▊      | 38/100 [28:26<46:20, 44.85s/it]"
          ]
        },
        {
          "name": "stdout",
          "output_type": "stream",
          "text": [
            "Epoch: 38/100, Train loss: 2.6925, Train acc: 41.4660, Test acc: 46.9000\n"
          ]
        },
        {
          "name": "stderr",
          "output_type": "stream",
          "text": [
            " 39%|███▉      | 39/100 [29:11<45:32, 44.79s/it]"
          ]
        },
        {
          "name": "stdout",
          "output_type": "stream",
          "text": [
            "Epoch: 39/100, Train loss: 2.6805, Train acc: 41.3740, Test acc: 46.9800\n"
          ]
        },
        {
          "name": "stderr",
          "output_type": "stream",
          "text": [
            " 40%|████      | 40/100 [29:56<44:46, 44.78s/it]"
          ]
        },
        {
          "name": "stdout",
          "output_type": "stream",
          "text": [
            "Epoch: 40/100, Train loss: 2.6566, Train acc: 42.3620, Test acc: 46.6100\n"
          ]
        },
        {
          "name": "stderr",
          "output_type": "stream",
          "text": [
            " 41%|████      | 41/100 [30:40<43:53, 44.64s/it]"
          ]
        },
        {
          "name": "stdout",
          "output_type": "stream",
          "text": [
            "Epoch: 41/100, Train loss: 2.6469, Train acc: 42.2720, Test acc: 47.5200\n"
          ]
        },
        {
          "name": "stderr",
          "output_type": "stream",
          "text": [
            " 42%|████▏     | 42/100 [31:25<43:07, 44.62s/it]"
          ]
        },
        {
          "name": "stdout",
          "output_type": "stream",
          "text": [
            "Epoch: 42/100, Train loss: 2.6328, Train acc: 42.9800, Test acc: 47.2300\n"
          ]
        },
        {
          "name": "stderr",
          "output_type": "stream",
          "text": [
            " 43%|████▎     | 43/100 [32:10<42:36, 44.85s/it]"
          ]
        },
        {
          "name": "stdout",
          "output_type": "stream",
          "text": [
            "Epoch: 43/100, Train loss: 2.6237, Train acc: 43.4180, Test acc: 47.5600\n"
          ]
        },
        {
          "name": "stderr",
          "output_type": "stream",
          "text": [
            " 44%|████▍     | 44/100 [32:56<42:02, 45.05s/it]"
          ]
        },
        {
          "name": "stdout",
          "output_type": "stream",
          "text": [
            "Epoch: 44/100, Train loss: 2.6056, Train acc: 43.6420, Test acc: 48.4100\n"
          ]
        },
        {
          "name": "stderr",
          "output_type": "stream",
          "text": [
            " 45%|████▌     | 45/100 [33:40<41:05, 44.82s/it]"
          ]
        },
        {
          "name": "stdout",
          "output_type": "stream",
          "text": [
            "Epoch: 45/100, Train loss: 2.5952, Train acc: 44.3060, Test acc: 48.6800\n"
          ]
        },
        {
          "name": "stderr",
          "output_type": "stream",
          "text": [
            " 46%|████▌     | 46/100 [34:25<40:26, 44.93s/it]"
          ]
        },
        {
          "name": "stdout",
          "output_type": "stream",
          "text": [
            "Epoch: 46/100, Train loss: 2.5814, Train acc: 44.3420, Test acc: 48.9000\n"
          ]
        },
        {
          "name": "stderr",
          "output_type": "stream",
          "text": [
            " 47%|████▋     | 47/100 [35:09<39:32, 44.75s/it]"
          ]
        },
        {
          "name": "stdout",
          "output_type": "stream",
          "text": [
            "Epoch: 47/100, Train loss: 2.5747, Train acc: 44.5840, Test acc: 49.8100\n"
          ]
        },
        {
          "name": "stderr",
          "output_type": "stream",
          "text": [
            " 48%|████▊     | 48/100 [35:53<38:37, 44.57s/it]"
          ]
        },
        {
          "name": "stdout",
          "output_type": "stream",
          "text": [
            "Epoch: 48/100, Train loss: 2.5623, Train acc: 44.9400, Test acc: 49.3600\n"
          ]
        },
        {
          "name": "stderr",
          "output_type": "stream",
          "text": [
            " 49%|████▉     | 49/100 [36:39<38:10, 44.91s/it]"
          ]
        },
        {
          "name": "stdout",
          "output_type": "stream",
          "text": [
            "Epoch: 49/100, Train loss: 2.5575, Train acc: 45.2220, Test acc: 49.7300\n"
          ]
        },
        {
          "name": "stderr",
          "output_type": "stream",
          "text": [
            " 50%|█████     | 50/100 [37:23<37:15, 44.72s/it]"
          ]
        },
        {
          "name": "stdout",
          "output_type": "stream",
          "text": [
            "Epoch: 50/100, Train loss: 2.5395, Train acc: 45.5040, Test acc: 50.0200\n"
          ]
        },
        {
          "name": "stderr",
          "output_type": "stream",
          "text": [
            " 51%|█████     | 51/100 [38:08<36:34, 44.78s/it]"
          ]
        },
        {
          "name": "stdout",
          "output_type": "stream",
          "text": [
            "Epoch: 51/100, Train loss: 2.5385, Train acc: 45.7140, Test acc: 49.7400\n"
          ]
        },
        {
          "name": "stderr",
          "output_type": "stream",
          "text": [
            " 52%|█████▏    | 52/100 [38:53<35:45, 44.69s/it]"
          ]
        },
        {
          "name": "stdout",
          "output_type": "stream",
          "text": [
            "Epoch: 52/100, Train loss: 2.5246, Train acc: 45.5120, Test acc: 50.0300\n"
          ]
        },
        {
          "name": "stderr",
          "output_type": "stream",
          "text": [
            " 53%|█████▎    | 53/100 [39:38<35:08, 44.87s/it]"
          ]
        },
        {
          "name": "stdout",
          "output_type": "stream",
          "text": [
            "Epoch: 53/100, Train loss: 2.5177, Train acc: 46.1700, Test acc: 50.4500\n"
          ]
        },
        {
          "name": "stderr",
          "output_type": "stream",
          "text": [
            " 54%|█████▍    | 54/100 [40:24<34:33, 45.07s/it]"
          ]
        },
        {
          "name": "stdout",
          "output_type": "stream",
          "text": [
            "Epoch: 54/100, Train loss: 2.5091, Train acc: 46.3400, Test acc: 51.0800\n"
          ]
        },
        {
          "name": "stderr",
          "output_type": "stream",
          "text": [
            " 55%|█████▌    | 55/100 [41:08<33:40, 44.90s/it]"
          ]
        },
        {
          "name": "stdout",
          "output_type": "stream",
          "text": [
            "Epoch: 55/100, Train loss: 2.4968, Train acc: 46.5900, Test acc: 50.9200\n"
          ]
        },
        {
          "name": "stderr",
          "output_type": "stream",
          "text": [
            " 56%|█████▌    | 56/100 [41:53<33:00, 45.02s/it]"
          ]
        },
        {
          "name": "stdout",
          "output_type": "stream",
          "text": [
            "Epoch: 56/100, Train loss: 2.4897, Train acc: 47.0740, Test acc: 50.7200\n"
          ]
        },
        {
          "name": "stderr",
          "output_type": "stream",
          "text": [
            " 57%|█████▋    | 57/100 [42:38<32:02, 44.72s/it]"
          ]
        },
        {
          "name": "stdout",
          "output_type": "stream",
          "text": [
            "Epoch: 57/100, Train loss: 2.4840, Train acc: 47.2180, Test acc: 50.8300\n"
          ]
        },
        {
          "name": "stderr",
          "output_type": "stream",
          "text": [
            " 58%|█████▊    | 58/100 [43:23<31:22, 44.82s/it]"
          ]
        },
        {
          "name": "stdout",
          "output_type": "stream",
          "text": [
            "Epoch: 58/100, Train loss: 2.4765, Train acc: 47.4020, Test acc: 51.6100\n"
          ]
        },
        {
          "name": "stderr",
          "output_type": "stream",
          "text": [
            " 59%|█████▉    | 59/100 [44:06<30:20, 44.39s/it]"
          ]
        },
        {
          "name": "stdout",
          "output_type": "stream",
          "text": [
            "Epoch: 59/100, Train loss: 2.4659, Train acc: 47.7700, Test acc: 50.8200\n"
          ]
        },
        {
          "name": "stderr",
          "output_type": "stream",
          "text": [
            " 60%|██████    | 60/100 [44:50<29:31, 44.28s/it]"
          ]
        },
        {
          "name": "stdout",
          "output_type": "stream",
          "text": [
            "Epoch: 60/100, Train loss: 2.4573, Train acc: 48.0560, Test acc: 51.9700\n"
          ]
        },
        {
          "name": "stderr",
          "output_type": "stream",
          "text": [
            " 61%|██████    | 61/100 [45:34<28:40, 44.12s/it]"
          ]
        },
        {
          "name": "stdout",
          "output_type": "stream",
          "text": [
            "Epoch: 61/100, Train loss: 2.4502, Train acc: 48.0260, Test acc: 51.3800\n"
          ]
        },
        {
          "name": "stderr",
          "output_type": "stream",
          "text": [
            " 62%|██████▏   | 62/100 [46:18<27:53, 44.04s/it]"
          ]
        },
        {
          "name": "stdout",
          "output_type": "stream",
          "text": [
            "Epoch: 62/100, Train loss: 2.4434, Train acc: 48.1860, Test acc: 51.5500\n"
          ]
        },
        {
          "name": "stderr",
          "output_type": "stream",
          "text": [
            " 63%|██████▎   | 63/100 [47:02<27:09, 44.03s/it]"
          ]
        },
        {
          "name": "stdout",
          "output_type": "stream",
          "text": [
            "Epoch: 63/100, Train loss: 2.4336, Train acc: 48.3400, Test acc: 52.3000\n"
          ]
        },
        {
          "name": "stderr",
          "output_type": "stream",
          "text": [
            " 64%|██████▍   | 64/100 [47:46<26:25, 44.04s/it]"
          ]
        },
        {
          "name": "stdout",
          "output_type": "stream",
          "text": [
            "Epoch: 64/100, Train loss: 2.4220, Train acc: 48.9140, Test acc: 52.0600\n"
          ]
        },
        {
          "name": "stderr",
          "output_type": "stream",
          "text": [
            " 65%|██████▌   | 65/100 [48:30<25:43, 44.10s/it]"
          ]
        },
        {
          "name": "stdout",
          "output_type": "stream",
          "text": [
            "Epoch: 65/100, Train loss: 2.4249, Train acc: 48.9740, Test acc: 52.5800\n"
          ]
        },
        {
          "name": "stderr",
          "output_type": "stream",
          "text": [
            " 66%|██████▌   | 66/100 [49:15<25:09, 44.39s/it]"
          ]
        },
        {
          "name": "stdout",
          "output_type": "stream",
          "text": [
            "Epoch: 66/100, Train loss: 2.4167, Train acc: 48.9220, Test acc: 53.1500\n"
          ]
        },
        {
          "name": "stderr",
          "output_type": "stream",
          "text": [
            " 67%|██████▋   | 67/100 [50:01<24:36, 44.75s/it]"
          ]
        },
        {
          "name": "stdout",
          "output_type": "stream",
          "text": [
            "Epoch: 67/100, Train loss: 2.4049, Train acc: 49.2440, Test acc: 52.1200\n"
          ]
        },
        {
          "name": "stderr",
          "output_type": "stream",
          "text": [
            " 68%|██████▊   | 68/100 [50:46<23:58, 44.94s/it]"
          ]
        },
        {
          "name": "stdout",
          "output_type": "stream",
          "text": [
            "Epoch: 68/100, Train loss: 2.4046, Train acc: 49.3120, Test acc: 51.5000\n"
          ]
        },
        {
          "name": "stderr",
          "output_type": "stream",
          "text": [
            " 69%|██████▉   | 69/100 [51:31<23:11, 44.90s/it]"
          ]
        },
        {
          "name": "stdout",
          "output_type": "stream",
          "text": [
            "Epoch: 69/100, Train loss: 2.3981, Train acc: 49.5840, Test acc: 52.8900\n"
          ]
        },
        {
          "name": "stderr",
          "output_type": "stream",
          "text": [
            " 70%|███████   | 70/100 [52:16<22:28, 44.94s/it]"
          ]
        },
        {
          "name": "stdout",
          "output_type": "stream",
          "text": [
            "Epoch: 70/100, Train loss: 2.3912, Train acc: 49.7400, Test acc: 52.9600\n"
          ]
        },
        {
          "name": "stderr",
          "output_type": "stream",
          "text": [
            " 71%|███████   | 71/100 [53:00<21:41, 44.88s/it]"
          ]
        },
        {
          "name": "stdout",
          "output_type": "stream",
          "text": [
            "Epoch: 71/100, Train loss: 2.3892, Train acc: 49.9460, Test acc: 52.5700\n"
          ]
        },
        {
          "name": "stderr",
          "output_type": "stream",
          "text": [
            " 72%|███████▏  | 72/100 [53:46<20:59, 44.97s/it]"
          ]
        },
        {
          "name": "stdout",
          "output_type": "stream",
          "text": [
            "Epoch: 72/100, Train loss: 2.3807, Train acc: 50.0260, Test acc: 52.5700\n"
          ]
        },
        {
          "name": "stderr",
          "output_type": "stream",
          "text": [
            " 73%|███████▎  | 73/100 [54:31<20:17, 45.09s/it]"
          ]
        },
        {
          "name": "stdout",
          "output_type": "stream",
          "text": [
            "Epoch: 73/100, Train loss: 2.3743, Train acc: 50.6300, Test acc: 52.8500\n"
          ]
        },
        {
          "name": "stderr",
          "output_type": "stream",
          "text": [
            " 74%|███████▍  | 74/100 [55:15<19:26, 44.85s/it]"
          ]
        },
        {
          "name": "stdout",
          "output_type": "stream",
          "text": [
            "Epoch: 74/100, Train loss: 2.3691, Train acc: 50.5140, Test acc: 53.7400\n"
          ]
        },
        {
          "name": "stderr",
          "output_type": "stream",
          "text": [
            " 75%|███████▌  | 75/100 [56:00<18:42, 44.90s/it]"
          ]
        },
        {
          "name": "stdout",
          "output_type": "stream",
          "text": [
            "Epoch: 75/100, Train loss: 2.3631, Train acc: 50.4740, Test acc: 53.2100\n"
          ]
        },
        {
          "name": "stderr",
          "output_type": "stream",
          "text": [
            " 76%|███████▌  | 76/100 [56:46<18:00, 45.04s/it]"
          ]
        },
        {
          "name": "stdout",
          "output_type": "stream",
          "text": [
            "Epoch: 76/100, Train loss: 2.3608, Train acc: 50.5840, Test acc: 53.8800\n"
          ]
        },
        {
          "name": "stderr",
          "output_type": "stream",
          "text": [
            " 77%|███████▋  | 77/100 [57:31<17:14, 44.97s/it]"
          ]
        },
        {
          "name": "stdout",
          "output_type": "stream",
          "text": [
            "Epoch: 77/100, Train loss: 2.3591, Train acc: 50.8300, Test acc: 53.1900\n"
          ]
        },
        {
          "name": "stderr",
          "output_type": "stream",
          "text": [
            " 78%|███████▊  | 78/100 [58:15<16:23, 44.70s/it]"
          ]
        },
        {
          "name": "stdout",
          "output_type": "stream",
          "text": [
            "Epoch: 78/100, Train loss: 2.3529, Train acc: 50.6360, Test acc: 53.0800\n"
          ]
        },
        {
          "name": "stderr",
          "output_type": "stream",
          "text": [
            " 79%|███████▉  | 79/100 [58:59<15:35, 44.55s/it]"
          ]
        },
        {
          "name": "stdout",
          "output_type": "stream",
          "text": [
            "Epoch: 79/100, Train loss: 2.3375, Train acc: 51.6140, Test acc: 52.8000\n"
          ]
        },
        {
          "name": "stderr",
          "output_type": "stream",
          "text": [
            " 80%|████████  | 80/100 [59:44<14:53, 44.70s/it]"
          ]
        },
        {
          "name": "stdout",
          "output_type": "stream",
          "text": [
            "Epoch: 80/100, Train loss: 2.3377, Train acc: 51.2400, Test acc: 53.4400\n"
          ]
        },
        {
          "name": "stderr",
          "output_type": "stream",
          "text": [
            " 81%|████████  | 81/100 [1:00:29<14:13, 44.93s/it]"
          ]
        },
        {
          "name": "stdout",
          "output_type": "stream",
          "text": [
            "Epoch: 81/100, Train loss: 2.3294, Train acc: 51.6160, Test acc: 53.2200\n"
          ]
        },
        {
          "name": "stderr",
          "output_type": "stream",
          "text": [
            " 82%|████████▏ | 82/100 [1:01:13<13:24, 44.71s/it]"
          ]
        },
        {
          "name": "stdout",
          "output_type": "stream",
          "text": [
            "Epoch: 82/100, Train loss: 2.3318, Train acc: 51.5200, Test acc: 54.4600\n"
          ]
        },
        {
          "name": "stderr",
          "output_type": "stream",
          "text": [
            " 83%|████████▎ | 83/100 [1:01:59<12:41, 44.81s/it]"
          ]
        },
        {
          "name": "stdout",
          "output_type": "stream",
          "text": [
            "Epoch: 83/100, Train loss: 2.3218, Train acc: 51.6440, Test acc: 54.1300\n"
          ]
        },
        {
          "name": "stderr",
          "output_type": "stream",
          "text": [
            " 84%|████████▍ | 84/100 [1:02:44<11:58, 44.89s/it]"
          ]
        },
        {
          "name": "stdout",
          "output_type": "stream",
          "text": [
            "Epoch: 84/100, Train loss: 2.3138, Train acc: 52.0600, Test acc: 54.4300\n"
          ]
        },
        {
          "name": "stderr",
          "output_type": "stream",
          "text": [
            " 85%|████████▌ | 85/100 [1:03:29<11:14, 44.95s/it]"
          ]
        },
        {
          "name": "stdout",
          "output_type": "stream",
          "text": [
            "Epoch: 85/100, Train loss: 2.3197, Train acc: 51.8900, Test acc: 54.3800\n"
          ]
        },
        {
          "name": "stderr",
          "output_type": "stream",
          "text": [
            " 86%|████████▌ | 86/100 [1:04:14<10:30, 45.01s/it]"
          ]
        },
        {
          "name": "stdout",
          "output_type": "stream",
          "text": [
            "Epoch: 86/100, Train loss: 2.3102, Train acc: 52.0320, Test acc: 54.5700\n"
          ]
        },
        {
          "name": "stderr",
          "output_type": "stream",
          "text": [
            " 87%|████████▋ | 87/100 [1:04:59<09:44, 44.99s/it]"
          ]
        },
        {
          "name": "stdout",
          "output_type": "stream",
          "text": [
            "Epoch: 87/100, Train loss: 2.3026, Train acc: 52.2880, Test acc: 54.4300\n"
          ]
        },
        {
          "name": "stderr",
          "output_type": "stream",
          "text": [
            " 88%|████████▊ | 88/100 [1:05:43<08:56, 44.69s/it]"
          ]
        },
        {
          "name": "stdout",
          "output_type": "stream",
          "text": [
            "Epoch: 88/100, Train loss: 2.2984, Train acc: 52.3980, Test acc: 54.1300\n"
          ]
        },
        {
          "name": "stderr",
          "output_type": "stream",
          "text": [
            " 89%|████████▉ | 89/100 [1:06:27<08:09, 44.54s/it]"
          ]
        },
        {
          "name": "stdout",
          "output_type": "stream",
          "text": [
            "Epoch: 89/100, Train loss: 2.2951, Train acc: 52.4600, Test acc: 54.3600\n"
          ]
        },
        {
          "name": "stderr",
          "output_type": "stream",
          "text": [
            " 90%|█████████ | 90/100 [1:07:12<07:27, 44.79s/it]"
          ]
        },
        {
          "name": "stdout",
          "output_type": "stream",
          "text": [
            "Epoch: 90/100, Train loss: 2.2939, Train acc: 52.3440, Test acc: 54.8700\n"
          ]
        },
        {
          "name": "stderr",
          "output_type": "stream",
          "text": [
            " 91%|█████████ | 91/100 [1:07:57<06:42, 44.78s/it]"
          ]
        },
        {
          "name": "stdout",
          "output_type": "stream",
          "text": [
            "Epoch: 91/100, Train loss: 2.2968, Train acc: 52.4960, Test acc: 54.6900\n"
          ]
        },
        {
          "name": "stderr",
          "output_type": "stream",
          "text": [
            " 92%|█████████▏| 92/100 [1:08:42<05:59, 44.95s/it]"
          ]
        },
        {
          "name": "stdout",
          "output_type": "stream",
          "text": [
            "Epoch: 92/100, Train loss: 2.2814, Train acc: 52.9460, Test acc: 53.8800\n"
          ]
        },
        {
          "name": "stderr",
          "output_type": "stream",
          "text": [
            " 93%|█████████▎| 93/100 [1:09:26<05:12, 44.59s/it]"
          ]
        },
        {
          "name": "stdout",
          "output_type": "stream",
          "text": [
            "Epoch: 93/100, Train loss: 2.2755, Train acc: 53.1780, Test acc: 54.6200\n"
          ]
        },
        {
          "name": "stderr",
          "output_type": "stream",
          "text": [
            " 94%|█████████▍| 94/100 [1:10:10<04:26, 44.41s/it]"
          ]
        },
        {
          "name": "stdout",
          "output_type": "stream",
          "text": [
            "Epoch: 94/100, Train loss: 2.2755, Train acc: 52.9540, Test acc: 55.0400\n"
          ]
        },
        {
          "name": "stderr",
          "output_type": "stream",
          "text": [
            " 95%|█████████▌| 95/100 [1:10:55<03:42, 44.43s/it]"
          ]
        },
        {
          "name": "stdout",
          "output_type": "stream",
          "text": [
            "Epoch: 95/100, Train loss: 2.2754, Train acc: 52.9440, Test acc: 54.9700\n"
          ]
        },
        {
          "name": "stderr",
          "output_type": "stream",
          "text": [
            " 96%|█████████▌| 96/100 [1:11:39<02:57, 44.49s/it]"
          ]
        },
        {
          "name": "stdout",
          "output_type": "stream",
          "text": [
            "Epoch: 96/100, Train loss: 2.2648, Train acc: 53.4960, Test acc: 55.6100\n"
          ]
        },
        {
          "name": "stderr",
          "output_type": "stream",
          "text": [
            " 97%|█████████▋| 97/100 [1:12:24<02:13, 44.47s/it]"
          ]
        },
        {
          "name": "stdout",
          "output_type": "stream",
          "text": [
            "Epoch: 97/100, Train loss: 2.2612, Train acc: 53.3200, Test acc: 55.4800\n"
          ]
        },
        {
          "name": "stderr",
          "output_type": "stream",
          "text": [
            " 98%|█████████▊| 98/100 [1:13:09<01:29, 44.59s/it]"
          ]
        },
        {
          "name": "stdout",
          "output_type": "stream",
          "text": [
            "Epoch: 98/100, Train loss: 2.2585, Train acc: 53.6740, Test acc: 55.2700\n"
          ]
        },
        {
          "name": "stderr",
          "output_type": "stream",
          "text": [
            " 99%|█████████▉| 99/100 [1:13:53<00:44, 44.39s/it]"
          ]
        },
        {
          "name": "stdout",
          "output_type": "stream",
          "text": [
            "Epoch: 99/100, Train loss: 2.2591, Train acc: 53.4260, Test acc: 55.0400\n"
          ]
        },
        {
          "name": "stderr",
          "output_type": "stream",
          "text": [
            "100%|██████████| 100/100 [1:14:37<00:00, 44.77s/it]"
          ]
        },
        {
          "name": "stdout",
          "output_type": "stream",
          "text": [
            "Epoch: 100/100, Train loss: 2.2507, Train acc: 53.9500, Test acc: 55.3500\n"
          ]
        },
        {
          "name": "stderr",
          "output_type": "stream",
          "text": [
            "\n"
          ]
        }
      ],
      "source": [
        "train_accuracies, test_accuracies = [], []\n",
        "\n",
        "for epoch in tqdm(range(EPOCHS)):\n",
        "    train_loss, train_acc = train(model, train_loader, optimizer, criterion)\n",
        "    test_acc = evaluate(model, test_loader)\n",
        "\n",
        "    train_accuracies.append(train_acc * 100)  # Store as percentage\n",
        "    test_accuracies.append(test_acc)          # Already in percentage\n",
        "\n",
        "    print(f\"Epoch: {epoch+1}/{EPOCHS}, Train loss: {train_loss:.4f}, Train acc: {train_acc * 100:.4f}, Test acc: {test_acc:.4f}\")\n",
        "\n",
        "\n",
        "\n",
        "    # print(f\"Epoch: {epoch+1}/{EPOCHS}, Train loss: {train_loss:.4f}, Train acc: {train_acc * 100:.2f}%, Test acc: {test_acc:.4f}\")"
      ]
    },
    {
      "cell_type": "code",
      "execution_count": 83,
      "metadata": {
        "id": "HtfzazjLUVo7"
      },
      "outputs": [
        {
          "data": {
            "text/plain": [
              "[5.473999999999999,\n",
              " 11.16,\n",
              " 14.862,\n",
              " 17.432,\n",
              " 18.990000000000002,\n",
              " 20.398,\n",
              " 21.662,\n",
              " 22.648,\n",
              " 23.694000000000003,\n",
              " 24.852,\n",
              " 25.534000000000002,\n",
              " 26.496,\n",
              " 27.37,\n",
              " 28.22,\n",
              " 29.04,\n",
              " 29.848000000000003,\n",
              " 30.34,\n",
              " 31.104,\n",
              " 31.635999999999996,\n",
              " 32.354,\n",
              " 32.690000000000005,\n",
              " 33.372,\n",
              " 33.808,\n",
              " 34.366,\n",
              " 34.826,\n",
              " 35.542,\n",
              " 36.306,\n",
              " 36.744,\n",
              " 37.332,\n",
              " 37.61,\n",
              " 38.202000000000005,\n",
              " 38.568000000000005,\n",
              " 39.022,\n",
              " 39.576,\n",
              " 39.873999999999995,\n",
              " 40.534,\n",
              " 40.726,\n",
              " 41.465999999999994,\n",
              " 41.374,\n",
              " 42.362,\n",
              " 42.272,\n",
              " 42.980000000000004,\n",
              " 43.418,\n",
              " 43.641999999999996,\n",
              " 44.306,\n",
              " 44.342,\n",
              " 44.584,\n",
              " 44.940000000000005,\n",
              " 45.222,\n",
              " 45.504,\n",
              " 45.714,\n",
              " 45.512,\n",
              " 46.17,\n",
              " 46.339999999999996,\n",
              " 46.589999999999996,\n",
              " 47.074,\n",
              " 47.217999999999996,\n",
              " 47.402,\n",
              " 47.77,\n",
              " 48.056,\n",
              " 48.026,\n",
              " 48.186,\n",
              " 48.339999999999996,\n",
              " 48.914,\n",
              " 48.974000000000004,\n",
              " 48.922,\n",
              " 49.244,\n",
              " 49.312,\n",
              " 49.584,\n",
              " 49.74,\n",
              " 49.946,\n",
              " 50.026,\n",
              " 50.629999999999995,\n",
              " 50.514,\n",
              " 50.474,\n",
              " 50.583999999999996,\n",
              " 50.83,\n",
              " 50.636,\n",
              " 51.614000000000004,\n",
              " 51.239999999999995,\n",
              " 51.61599999999999,\n",
              " 51.519999999999996,\n",
              " 51.644,\n",
              " 52.059999999999995,\n",
              " 51.89,\n",
              " 52.032000000000004,\n",
              " 52.288000000000004,\n",
              " 52.398,\n",
              " 52.459999999999994,\n",
              " 52.344,\n",
              " 52.495999999999995,\n",
              " 52.946000000000005,\n",
              " 53.178000000000004,\n",
              " 52.954,\n",
              " 52.944,\n",
              " 53.496,\n",
              " 53.32,\n",
              " 53.674,\n",
              " 53.425999999999995,\n",
              " 53.949999999999996]"
            ]
          },
          "execution_count": 83,
          "metadata": {},
          "output_type": "execute_result"
        }
      ],
      "source": [
        "train_accuracies"
      ]
    },
    {
      "cell_type": "code",
      "execution_count": 84,
      "metadata": {},
      "outputs": [],
      "source": [
        "# def pgd_attack(model, images, labels, eps=8/255, alpha=2/255, iters=10):\n",
        "#     model.eval()\n",
        "#     ori_images = images.clone().detach()\n",
        "    \n",
        "#     # Make sure images is a leaf and requires grad\n",
        "#     images = ori_images.clone().detach().to(images.device)\n",
        "#     images.requires_grad = True\n",
        "\n",
        "#     for _ in range(iters):\n",
        "#         outputs = model(images)\n",
        "#         loss = F.cross_entropy(outputs, labels)\n",
        "        \n",
        "#         model.zero_grad()\n",
        "#         if images.grad is not None:\n",
        "#             images.grad.zero_()\n",
        "#         loss.backward()\n",
        "\n",
        "#         # Apply perturbation\n",
        "#         adv_images = images + alpha * images.grad.sign()\n",
        "        \n",
        "#         # Project back into epsilon-ball and clamp to [0,1]\n",
        "#         eta = torch.clamp(adv_images - ori_images, min=-eps, max=eps)\n",
        "#         images = torch.clamp(ori_images + eta, min=0, max=1).detach()\n",
        "#         images.requires_grad = True  # re-enable gradients for next iteration\n",
        "\n",
        "#     return images\n"
      ]
    },
    {
      "cell_type": "code",
      "execution_count": 85,
      "metadata": {},
      "outputs": [],
      "source": [
        "# def evaluate_pgd(model, dataloader, eps=0.3, alpha=0.01, iters=40):\n",
        "#     model.eval()\n",
        "#     correct = 0\n",
        "#     total = 0\n",
        "#     with torch.no_grad():\n",
        "#         for x, y in dataloader:\n",
        "#             x, y = x.to(device), y.to(device)\n",
        "#             x_adv = pgd_attack(model, x, y, eps, alpha, iters)\n",
        "#             preds = model(x_adv)\n",
        "#             correct += (preds.argmax(1) == y).sum().item()\n",
        "#             total += y.size(0)\n",
        "#     return 100 * correct / total\n"
      ]
    },
    {
      "cell_type": "code",
      "execution_count": 86,
      "metadata": {},
      "outputs": [],
      "source": [
        "# # Get final clean test accuracy\n",
        "# clean_test_acc = evaluate(model, test_loader)\n",
        "\n",
        "# # Get adversarial test accuracy using PGD\n",
        "# adv_test_acc = evaluate_pgd(model, test_loader)\n",
        "\n",
        "# # Print both for comparison\n",
        "# print(f\"\\nTest Accuracy on Clean Test Data (ViT): {clean_test_acc:.2f}%\")\n",
        "# print(f\"Test Accuracy on Adversarial Examples (PGD): {adv_test_acc:.2f}%\")\n"
      ]
    },
    {
      "cell_type": "code",
      "execution_count": 87,
      "metadata": {
        "id": "h26UKVzBUbcI"
      },
      "outputs": [],
      "source": [
        "# test_accuracies"
      ]
    },
    {
      "cell_type": "code",
      "execution_count": 88,
      "metadata": {
        "id": "PA7BiIGfUeIS"
      },
      "outputs": [
        {
          "data": {
            "image/png": "[encoded data removed]",
            "text/plain": [
              "<Figure size 640x480 with 1 Axes>"
            ]
          },
          "metadata": {},
          "output_type": "display_data"
        }
      ],
      "source": [
        "# Plot accuracy\n",
        "plt.plot(train_accuracies, label=\"Train Accuracy\")\n",
        "plt.plot(test_accuracies, label=\"Test Accuracy\")\n",
        "plt.xlabel(\"Epochs\")\n",
        "plt.ylabel(\"Accuracy\")\n",
        "plt.legend()\n",
        "plt.title(\"Training and Test Accuracy\")\n",
        "plt.show()"
      ]
    },
    {
      "cell_type": "code",
      "execution_count": 89,
      "metadata": {
        "id": "gHMLNwbIVz9Q"
      },
      "outputs": [],
      "source": [
        "import random"
      ]
    },
    {
      "cell_type": "code",
      "execution_count": 90,
      "metadata": {
        "id": "saTYEqzdWK9J"
      },
      "outputs": [
        {
          "data": {
            "text/plain": [
              "10000"
            ]
          },
          "execution_count": 90,
          "metadata": {},
          "output_type": "execute_result"
        }
      ],
      "source": [
        "len(test_dataset)"
      ]
    },
    {
      "cell_type": "code",
      "execution_count": 91,
      "metadata": {
        "id": "WHHVI1RrWdbZ"
      },
      "outputs": [
        {
          "data": {
            "text/plain": [
              "torch.Size([1, 3, 32, 32])"
            ]
          },
          "execution_count": 91,
          "metadata": {},
          "output_type": "execute_result"
        }
      ],
      "source": [
        "test_dataset[0][0].unsqueeze(dim=0).shape"
      ]
    },
    {
      "cell_type": "code",
      "execution_count": 92,
      "metadata": {
        "id": "1EYbt9fnW7is"
      },
      "outputs": [
        {
          "data": {
            "text/plain": [
              "tensor([[[1.0108, 0.9888, 0.9815,  ..., 1.1354, 1.1428, 1.1941],\n",
              "         [0.9962, 0.9815, 0.9815,  ..., 1.2454, 1.2600, 1.3187],\n",
              "         [1.1794, 1.1134, 1.0841,  ..., 1.3333, 1.3407, 1.3847],\n",
              "         ...,\n",
              "         [0.0799, 0.0726, 0.0946,  ..., 1.1648, 0.8935, 0.6883],\n",
              "         [0.0799, 0.1092, 0.1679,  ..., 1.1794, 0.9229, 0.6150],\n",
              "         [0.1386, 0.1679, 0.1752,  ..., 1.1428, 1.0695, 0.8422]],\n",
              "\n",
              "        [[1.1948, 1.1642, 1.1566,  ..., 1.3171, 1.3171, 1.3401],\n",
              "         [1.1566, 1.1413, 1.1566,  ..., 1.4089, 1.4089, 1.4241],\n",
              "         [1.2789, 1.2330, 1.2254,  ..., 1.4624, 1.4547, 1.4624],\n",
              "         ...,\n",
              "         [0.1093, 0.1170, 0.1475,  ..., 1.1413, 0.8355, 0.6291],\n",
              "         [0.1246, 0.1705, 0.2316,  ..., 1.1719, 0.8814, 0.5603],\n",
              "         [0.2010, 0.2393, 0.2546,  ..., 1.1337, 1.0343, 0.8049]],\n",
              "\n",
              "        [[1.4701, 1.4346, 1.4275,  ..., 1.4772, 1.4772, 1.4914],\n",
              "         [1.3990, 1.3919, 1.4062,  ..., 1.4772, 1.4772, 1.4985],\n",
              "         [1.4488, 1.4204, 1.4275,  ..., 1.4843, 1.4843, 1.4985],\n",
              "         ...,\n",
              "         [0.4048, 0.4261, 0.4687,  ..., 1.2428, 0.9871, 0.7670],\n",
              "         [0.4403, 0.4900, 0.5681,  ..., 1.2641, 1.0653, 0.7599],\n",
              "         [0.5397, 0.5752, 0.6037,  ..., 1.2286, 1.2002, 1.0014]]])"
            ]
          },
          "execution_count": 92,
          "metadata": {},
          "output_type": "execute_result"
        }
      ],
      "source": [
        "test_dataset[0][0] / 2 + 0.5"
      ]
    },
    {
      "cell_type": "code",
      "execution_count": 93,
      "metadata": {
        "id": "sN-g0LsEVXq4"
      },
      "outputs": [],
      "source": [
        "def predict_and_plot_grid(model,\n",
        "                          dataset,\n",
        "                          classes,\n",
        "                          grid_size=3):\n",
        "    model.eval()\n",
        "    fig, axes = plt.subplots(grid_size, grid_size, figsize=(9, 9))\n",
        "    for i in range(grid_size):\n",
        "        for j in range(grid_size):\n",
        "            idx = random.randint(0, len(dataset) - 1)\n",
        "            img, true_label = dataset[idx]\n",
        "            input_tensor = img.unsqueeze(dim=0).to(device)\n",
        "            with torch.inference_mode():\n",
        "                output = model(input_tensor)\n",
        "                _, predicted = torch.max(output.data, 1)\n",
        "            img = img / 2 + 0.5 # Unormalize our images to be able to plot them with matplotlib\n",
        "            npimg = img.cpu().numpy()\n",
        "            axes[i, j].imshow(np.transpose(npimg, (1, 2, 0)))\n",
        "            truth = classes[true_label] == classes[predicted.item()]\n",
        "            if truth:\n",
        "                color = \"g\"\n",
        "            else:\n",
        "                color = \"r\"\n",
        "\n",
        "            axes[i, j].set_title(f\"Truth: {classes[true_label]}\\n, Predicted: {classes[predicted.item()]}\", fontsize=10, c=color)\n",
        "            axes[i, j].axis(\"off\")\n",
        "    plt.tight_layout()\n",
        "    plt.show()"
      ]
    }
  ],
  "metadata": {
    "accelerator": "GPU",
    "colab": {
      "gpuType": "T4",
      "provenance": []
    },
    "kernelspec": {
      "display_name": "a1",
      "language": "python",
      "name": "python3"
    },
    "language_info": {
      "codemirror_mode": {
        "name": "ipython",
        "version": 3
      },
      "file_extension": ".py",
      "mimetype": "text/x-python",
      "name": "python",
      "nbconvert_exporter": "python",
      "pygments_lexer": "ipython3",
      "version": "3.10.16"
    }
  },
  "nbformat": 4,
  "nbformat_minor": 0
}
